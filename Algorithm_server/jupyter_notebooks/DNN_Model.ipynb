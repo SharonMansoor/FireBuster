{
 "cells": [
  {
   "cell_type": "code",
   "execution_count": 62,
   "metadata": {},
   "outputs": [],
   "source": [
    "from keras.callbacks import ModelCheckpoint\n",
    "from keras.models import Sequential\n",
    "from keras.layers import Dense, Activation, Flatten\n",
    "from sklearn.model_selection import train_test_split\n",
    "from sklearn.ensemble import RandomForestRegressor\n",
    "from sklearn.metrics import mean_absolute_error\n",
    "from matplotlib import pyplot as plt\n",
    "import seaborn as sb\n",
    "import matplotlib.pyplot as plt\n",
    "import pandas as pd\n",
    "import numpy as np\n",
    "import warnings \n",
    "warnings.filterwarnings('ignore')\n",
    "warnings.filterwarnings('ignore', category=DeprecationWarning)\n",
    "from xgboost import XGBRegressor\n",
    "import sklearn\n",
    "from sklearn import preprocessing\n",
    "import tensorflow as tf\n",
    "from keras import layers\n",
    "\n",
    "\n"
   ]
  },
  {
   "cell_type": "code",
   "execution_count": 63,
   "metadata": {},
   "outputs": [],
   "source": [
    "# Importing the dataset\n",
    "dataset = pd.read_csv('C:\\Fires\\FullDatasetNoArson.csv')\n"
   ]
  },
  {
   "cell_type": "code",
   "execution_count": 64,
   "metadata": {},
   "outputs": [
    {
     "data": {
      "text/html": [
       "<div>\n",
       "<style scoped>\n",
       "    .dataframe tbody tr th:only-of-type {\n",
       "        vertical-align: middle;\n",
       "    }\n",
       "\n",
       "    .dataframe tbody tr th {\n",
       "        vertical-align: top;\n",
       "    }\n",
       "\n",
       "    .dataframe thead th {\n",
       "        text-align: right;\n",
       "    }\n",
       "</style>\n",
       "<table border=\"1\" class=\"dataframe\">\n",
       "  <thead>\n",
       "    <tr style=\"text-align: right;\">\n",
       "      <th></th>\n",
       "      <th>LATITUDE</th>\n",
       "      <th>LONGITUDE</th>\n",
       "      <th>Tair_f</th>\n",
       "      <th>Tair_f_min</th>\n",
       "      <th>Tair_f_max</th>\n",
       "      <th>Wind_f</th>\n",
       "      <th>DOY</th>\n",
       "      <th>Humidity</th>\n",
       "      <th>IS_FIRE</th>\n",
       "    </tr>\n",
       "  </thead>\n",
       "  <tbody>\n",
       "    <tr>\n",
       "      <td>count</td>\n",
       "      <td>1.316906e+06</td>\n",
       "      <td>1.316906e+06</td>\n",
       "      <td>1.316906e+06</td>\n",
       "      <td>1.316906e+06</td>\n",
       "      <td>1.316906e+06</td>\n",
       "      <td>1.316906e+06</td>\n",
       "      <td>1.316906e+06</td>\n",
       "      <td>1.316906e+06</td>\n",
       "      <td>1.316906e+06</td>\n",
       "    </tr>\n",
       "    <tr>\n",
       "      <td>mean</td>\n",
       "      <td>3.517969e+01</td>\n",
       "      <td>-9.345112e+01</td>\n",
       "      <td>2.902496e+02</td>\n",
       "      <td>2.853949e+02</td>\n",
       "      <td>2.960301e+02</td>\n",
       "      <td>3.725150e+00</td>\n",
       "      <td>1.781752e+02</td>\n",
       "      <td>6.445918e+01</td>\n",
       "      <td>2.475651e-01</td>\n",
       "    </tr>\n",
       "    <tr>\n",
       "      <td>std</td>\n",
       "      <td>4.427601e+00</td>\n",
       "      <td>1.618340e+01</td>\n",
       "      <td>9.087236e+00</td>\n",
       "      <td>8.794153e+00</td>\n",
       "      <td>9.525594e+00</td>\n",
       "      <td>1.617672e+00</td>\n",
       "      <td>1.026485e+02</td>\n",
       "      <td>1.921984e+01</td>\n",
       "      <td>4.315979e-01</td>\n",
       "    </tr>\n",
       "    <tr>\n",
       "      <td>min</td>\n",
       "      <td>2.537506e+01</td>\n",
       "      <td>-1.242499e+02</td>\n",
       "      <td>2.391047e+02</td>\n",
       "      <td>2.351400e+02</td>\n",
       "      <td>2.444900e+02</td>\n",
       "      <td>1.749286e-01</td>\n",
       "      <td>1.000000e+00</td>\n",
       "      <td>3.094748e+00</td>\n",
       "      <td>0.000000e+00</td>\n",
       "    </tr>\n",
       "    <tr>\n",
       "      <td>25%</td>\n",
       "      <td>3.236461e+01</td>\n",
       "      <td>-1.108810e+02</td>\n",
       "      <td>2.838275e+02</td>\n",
       "      <td>2.790699e+02</td>\n",
       "      <td>2.897500e+02</td>\n",
       "      <td>2.594814e+00</td>\n",
       "      <td>9.000000e+01</td>\n",
       "      <td>5.363580e+01</td>\n",
       "      <td>0.000000e+00</td>\n",
       "    </tr>\n",
       "    <tr>\n",
       "      <td>50%</td>\n",
       "      <td>3.422694e+01</td>\n",
       "      <td>-8.413550e+01</td>\n",
       "      <td>2.911731e+02</td>\n",
       "      <td>2.860300e+02</td>\n",
       "      <td>2.972000e+02</td>\n",
       "      <td>3.431823e+00</td>\n",
       "      <td>1.760000e+02</td>\n",
       "      <td>6.891118e+01</td>\n",
       "      <td>0.000000e+00</td>\n",
       "    </tr>\n",
       "    <tr>\n",
       "      <td>75%</td>\n",
       "      <td>3.727861e+01</td>\n",
       "      <td>-8.117237e+01</td>\n",
       "      <td>2.976779e+02</td>\n",
       "      <td>2.924700e+02</td>\n",
       "      <td>3.032400e+02</td>\n",
       "      <td>4.539546e+00</td>\n",
       "      <td>2.640000e+02</td>\n",
       "      <td>7.878741e+01</td>\n",
       "      <td>0.000000e+00</td>\n",
       "    </tr>\n",
       "    <tr>\n",
       "      <td>max</td>\n",
       "      <td>4.887500e+01</td>\n",
       "      <td>-7.262509e+01</td>\n",
       "      <td>3.150400e+02</td>\n",
       "      <td>3.150400e+02</td>\n",
       "      <td>3.224799e+02</td>\n",
       "      <td>1.992163e+01</td>\n",
       "      <td>3.660000e+02</td>\n",
       "      <td>1.095052e+02</td>\n",
       "      <td>1.000000e+00</td>\n",
       "    </tr>\n",
       "  </tbody>\n",
       "</table>\n",
       "</div>"
      ],
      "text/plain": [
       "           LATITUDE     LONGITUDE        Tair_f    Tair_f_min    Tair_f_max  \\\n",
       "count  1.316906e+06  1.316906e+06  1.316906e+06  1.316906e+06  1.316906e+06   \n",
       "mean   3.517969e+01 -9.345112e+01  2.902496e+02  2.853949e+02  2.960301e+02   \n",
       "std    4.427601e+00  1.618340e+01  9.087236e+00  8.794153e+00  9.525594e+00   \n",
       "min    2.537506e+01 -1.242499e+02  2.391047e+02  2.351400e+02  2.444900e+02   \n",
       "25%    3.236461e+01 -1.108810e+02  2.838275e+02  2.790699e+02  2.897500e+02   \n",
       "50%    3.422694e+01 -8.413550e+01  2.911731e+02  2.860300e+02  2.972000e+02   \n",
       "75%    3.727861e+01 -8.117237e+01  2.976779e+02  2.924700e+02  3.032400e+02   \n",
       "max    4.887500e+01 -7.262509e+01  3.150400e+02  3.150400e+02  3.224799e+02   \n",
       "\n",
       "             Wind_f           DOY      Humidity       IS_FIRE  \n",
       "count  1.316906e+06  1.316906e+06  1.316906e+06  1.316906e+06  \n",
       "mean   3.725150e+00  1.781752e+02  6.445918e+01  2.475651e-01  \n",
       "std    1.617672e+00  1.026485e+02  1.921984e+01  4.315979e-01  \n",
       "min    1.749286e-01  1.000000e+00  3.094748e+00  0.000000e+00  \n",
       "25%    2.594814e+00  9.000000e+01  5.363580e+01  0.000000e+00  \n",
       "50%    3.431823e+00  1.760000e+02  6.891118e+01  0.000000e+00  \n",
       "75%    4.539546e+00  2.640000e+02  7.878741e+01  0.000000e+00  \n",
       "max    1.992163e+01  3.660000e+02  1.095052e+02  1.000000e+00  "
      ]
     },
     "execution_count": 64,
     "metadata": {},
     "output_type": "execute_result"
    }
   ],
   "source": [
    "vals = dataset.values\n",
    "\n",
    "X = dataset.iloc[:,0:8].values\n",
    "y = dataset.iloc[:, 8].values\n",
    "\n",
    "# Splitting the dataset into the Training set and Test set\n",
    "from sklearn.model_selection import train_test_split\n",
    "x_train, x_test, y_train, y_test = train_test_split(X, y, test_size = 0.25, random_state = 0)\n",
    "\n",
    "dataset.describe()"
   ]
  },
  {
   "cell_type": "code",
   "execution_count": 65,
   "metadata": {},
   "outputs": [
    {
     "name": "stdout",
     "output_type": "stream",
     "text": [
      "Model: \"sequential_6\"\n",
      "_________________________________________________________________\n",
      "Layer (type)                 Output Shape              Param #   \n",
      "=================================================================\n",
      "dense_27 (Dense)             (None, 16)                144       \n",
      "_________________________________________________________________\n",
      "dense_28 (Dense)             (None, 32)                544       \n",
      "_________________________________________________________________\n",
      "dense_29 (Dense)             (None, 128)               4224      \n",
      "_________________________________________________________________\n",
      "dense_30 (Dense)             (None, 1)                 129       \n",
      "=================================================================\n",
      "Total params: 5,041\n",
      "Trainable params: 5,041\n",
      "Non-trainable params: 0\n",
      "_________________________________________________________________\n"
     ]
    }
   ],
   "source": [
    "NN_model = Sequential()\n",
    "\n",
    "# The Input Layer :\n",
    "NN_model.add(layers.Dense(units=16, activation='relu', input_shape=(x_train.shape[1],)))\n",
    "\n",
    "\n",
    "# The Hidden Layers :\n",
    "NN_model.add(layers.Dense(units=32, activation='relu'))\n",
    "NN_model.add(layers.Dense(units=128, activation='relu'))\n",
    "\n",
    "# The Output Layer :\n",
    "NN_model.add(layers.Dense(units=1, activation='sigmoid'))\n",
    "\n",
    "#params\n",
    "opt = tf.keras.optimizers.SGD(\n",
    "    learning_rate=0.0001, momentum=0.7, nesterov=True, name=\"SGD\")\n",
    "lossbn = tf.keras.losses.BinaryCrossentropy(\n",
    "    from_logits=False, label_smoothing=0, reduction=\"auto\", name=\"binary_crossentropy\")\n",
    "met = tf.keras.metrics.AUC(\n",
    "    num_thresholds=200,\n",
    "    curve=\"ROC\",\n",
    "    summation_method=\"interpolation\",\n",
    "    name=None,\n",
    "    dtype=None,\n",
    "    thresholds=None,\n",
    "    multi_label=False,\n",
    "    label_weights=None,\n",
    ")\n",
    "# Compile the network :\n",
    "# Compile neural network\n",
    "NN_model.compile(loss='binary_crossentropy', # Cross-entropy\n",
    "                optimizer=opt, # Root Mean Square Propagation\n",
    "                metrics=['accuracy']) # Accuracy performance metric\n",
    "NN_model.summary()"
   ]
  },
  {
   "cell_type": "code",
   "execution_count": 66,
   "metadata": {},
   "outputs": [],
   "source": [
    "checkpoint_name = 'Weights-{epoch:03d}--{val_loss:.5f}.hdf5' \n",
    "checkpoint = ModelCheckpoint(checkpoint_name, monitor='val_loss', verbose = 1, save_best_only = True, mode ='auto')\n",
    "callbacks_list = [checkpoint]"
   ]
  },
  {
   "cell_type": "code",
   "execution_count": 67,
   "metadata": {},
   "outputs": [
    {
     "name": "stdout",
     "output_type": "stream",
     "text": [
      "Train on 790143 samples, validate on 197536 samples\n",
      "Epoch 1/15\n",
      "790143/790143 [==============================] - 16s 21us/step - loss: 0.5424 - accuracy: 0.7471 - val_loss: 0.5310 - val_accuracy: 0.7417\n",
      "\n",
      "Epoch 00001: val_loss improved from inf to 0.53098, saving model to Weights-001--0.53098.hdf5\n",
      "Epoch 2/15\n",
      "790143/790143 [==============================] - 16s 20us/step - loss: 0.5157 - accuracy: 0.7541 - val_loss: 0.5160 - val_accuracy: 0.7547\n",
      "\n",
      "Epoch 00002: val_loss improved from 0.53098 to 0.51595, saving model to Weights-002--0.51595.hdf5\n",
      "Epoch 3/15\n",
      "790143/790143 [==============================] - 19s 24us/step - loss: 0.5128 - accuracy: 0.7555 - val_loss: 0.5179 - val_accuracy: 0.7490\n",
      "\n",
      "Epoch 00003: val_loss did not improve from 0.51595\n",
      "Epoch 4/15\n",
      "790143/790143 [==============================] - 17s 21us/step - loss: 0.5111 - accuracy: 0.7558 - val_loss: 0.5091 - val_accuracy: 0.7568\n",
      "\n",
      "Epoch 00004: val_loss improved from 0.51595 to 0.50906, saving model to Weights-004--0.50906.hdf5\n",
      "Epoch 5/15\n",
      "790143/790143 [==============================] - 18s 23us/step - loss: 0.5100 - accuracy: 0.7565 - val_loss: 0.5093 - val_accuracy: 0.7560\n",
      "\n",
      "Epoch 00005: val_loss did not improve from 0.50906\n",
      "Epoch 6/15\n",
      "790143/790143 [==============================] - 16s 21us/step - loss: 0.5088 - accuracy: 0.7569 - val_loss: 0.5171 - val_accuracy: 0.7528\n",
      "\n",
      "Epoch 00006: val_loss did not improve from 0.50906\n",
      "Epoch 7/15\n",
      "790143/790143 [==============================] - 17s 22us/step - loss: 0.5081 - accuracy: 0.7569 - val_loss: 0.5069 - val_accuracy: 0.7576\n",
      "\n",
      "Epoch 00007: val_loss improved from 0.50906 to 0.50694, saving model to Weights-007--0.50694.hdf5\n",
      "Epoch 8/15\n",
      "790143/790143 [==============================] - 16s 20us/step - loss: 0.5076 - accuracy: 0.7569 - val_loss: 0.5056 - val_accuracy: 0.7575\n",
      "\n",
      "Epoch 00008: val_loss improved from 0.50694 to 0.50564, saving model to Weights-008--0.50564.hdf5\n",
      "Epoch 9/15\n",
      "790143/790143 [==============================] - 16s 20us/step - loss: 0.5070 - accuracy: 0.7573 - val_loss: 0.5078 - val_accuracy: 0.7574\n",
      "\n",
      "Epoch 00009: val_loss did not improve from 0.50564\n",
      "Epoch 10/15\n",
      "790143/790143 [==============================] - 17s 21us/step - loss: 0.5064 - accuracy: 0.7574 - val_loss: 0.5053 - val_accuracy: 0.7574\n",
      "\n",
      "Epoch 00010: val_loss improved from 0.50564 to 0.50533, saving model to Weights-010--0.50533.hdf5\n",
      "Epoch 11/15\n",
      "790143/790143 [==============================] - 16s 20us/step - loss: 0.5060 - accuracy: 0.7576 - val_loss: 0.5063 - val_accuracy: 0.7567\n",
      "\n",
      "Epoch 00011: val_loss did not improve from 0.50533\n",
      "Epoch 12/15\n",
      "790143/790143 [==============================] - 17s 21us/step - loss: 0.5057 - accuracy: 0.7576 - val_loss: 0.5055 - val_accuracy: 0.7579\n",
      "\n",
      "Epoch 00012: val_loss did not improve from 0.50533\n",
      "Epoch 13/15\n",
      "790143/790143 [==============================] - 16s 21us/step - loss: 0.5053 - accuracy: 0.7577 - val_loss: 0.5098 - val_accuracy: 0.7539\n",
      "\n",
      "Epoch 00013: val_loss did not improve from 0.50533\n",
      "Epoch 14/15\n",
      "790143/790143 [==============================] - 16s 20us/step - loss: 0.5051 - accuracy: 0.7580 - val_loss: 0.5039 - val_accuracy: 0.7582\n",
      "\n",
      "Epoch 00014: val_loss improved from 0.50533 to 0.50393, saving model to Weights-014--0.50393.hdf5\n",
      "Epoch 15/15\n",
      "790143/790143 [==============================] - 16s 20us/step - loss: 0.5047 - accuracy: 0.7581 - val_loss: 0.5061 - val_accuracy: 0.7575\n",
      "\n",
      "Epoch 00015: val_loss did not improve from 0.50393\n"
     ]
    },
    {
     "data": {
      "text/plain": [
       "<keras.callbacks.callbacks.History at 0x2128644bf88>"
      ]
     },
     "execution_count": 67,
     "metadata": {},
     "output_type": "execute_result"
    }
   ],
   "source": [
    "NN_model.fit(x_train, y_train, epochs=15, batch_size=32, validation_split = 0.2, callbacks=callbacks_list)"
   ]
  },
  {
   "cell_type": "code",
   "execution_count": 68,
   "metadata": {},
   "outputs": [
    {
     "data": {
      "text/plain": [
       "array([[0],\n",
       "       [0],\n",
       "       [0],\n",
       "       ...,\n",
       "       [0],\n",
       "       [0],\n",
       "       [0]])"
      ]
     },
     "execution_count": 68,
     "metadata": {},
     "output_type": "execute_result"
    }
   ],
   "source": [
    "y_pred = NN_model.predict_classes(x_test)\n",
    "y_pred"
   ]
  },
  {
   "cell_type": "code",
   "execution_count": 53,
   "metadata": {},
   "outputs": [],
   "source": [
    "#convert into binary values\n",
    "for i in range(0,len(y_pred)):\n",
    "    if y_pred[i]>=.5:      # setting threshold to .5\n",
    "        y_pred[i]=1\n",
    "    else:  \n",
    "        y_pred[i]=0"
   ]
  },
  {
   "cell_type": "code",
   "execution_count": 69,
   "metadata": {},
   "outputs": [
    {
     "data": {
      "text/plain": [
       "array([[244288,   3330],\n",
       "       [ 76446,   5163]], dtype=int64)"
      ]
     },
     "execution_count": 69,
     "metadata": {},
     "output_type": "execute_result"
    }
   ],
   "source": [
    "#Confusion matrix\n",
    "from sklearn.metrics import confusion_matrix\n",
    "cm = confusion_matrix(y_test, y_pred)\n",
    "\n",
    "#Accuracy\n",
    "from sklearn.metrics import accuracy_score\n",
    "accuracy=accuracy_score(y_pred,y_test)\n",
    "cm"
   ]
  },
  {
   "cell_type": "code",
   "execution_count": 70,
   "metadata": {},
   "outputs": [
    {
     "data": {
      "text/plain": [
       "<matplotlib.axes._subplots.AxesSubplot at 0x212872fae88>"
      ]
     },
     "execution_count": 70,
     "metadata": {},
     "output_type": "execute_result"
    },
    {
     "data": {
      "image/png": "[encoded data removed]",
      "text/plain": [
       "<Figure size 432x288 with 2 Axes>"
      ]
     },
     "metadata": {
      "needs_background": "light"
     },
     "output_type": "display_data"
    }
   ],
   "source": [
    "import matplotlib.pyplot as plt  # doctest: +SKIP\n",
    "from sklearn.datasets import make_classification\n",
    "from sklearn.metrics import plot_confusion_matrix\n",
    "from sklearn.model_selection import train_test_split\n",
    "from sklearn.svm import SVC\n",
    "import seaborn as sns\n",
    "\n",
    "group_names = ['True Neg','False Pos','False Neg','True Pos']\n",
    "group_counts = [\"{0:0.0f}\".format(value) for value in\n",
    "                cm.flatten()]\n",
    "group_percentages = [\"{0:.2%}\".format(value) for value in\n",
    "                     cm.flatten()/np.sum(cm)]\n",
    "labels = [f\"{v1}\\n{v2}\\n{v3}\" for v1, v2, v3 in\n",
    "          zip(group_names,group_counts,group_percentages)]\n",
    "labels = np.asarray(labels).reshape(2,2)\n",
    "sns.heatmap(cm, annot=labels, fmt='', cmap='YlGnBu')\n"
   ]
  },
  {
   "cell_type": "code",
   "execution_count": null,
   "metadata": {},
   "outputs": [],
   "source": []
  },
  {
   "cell_type": "code",
   "execution_count": null,
   "metadata": {},
   "outputs": [],
   "source": []
  }
 ],
 "metadata": {
  "kernelspec": {
   "display_name": "Python 3",
   "language": "python",
   "name": "python3"
  },
  "language_info": {
   "codemirror_mode": {
    "name": "ipython",
    "version": 3
   },
   "file_extension": ".py",
   "mimetype": "text/x-python",
   "name": "python",
   "nbconvert_exporter": "python",
   "pygments_lexer": "ipython3",
   "version": "3.7.6"
  }
 },
 "nbformat": 4,
 "nbformat_minor": 4
}
