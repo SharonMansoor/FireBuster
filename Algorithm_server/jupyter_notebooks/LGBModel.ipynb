{
 "cells": [
  {
   "cell_type": "code",
   "execution_count": 70,
   "metadata": {},
   "outputs": [
    {
     "data": {
      "text/html": [
       "<div>\n",
       "<style scoped>\n",
       "    .dataframe tbody tr th:only-of-type {\n",
       "        vertical-align: middle;\n",
       "    }\n",
       "\n",
       "    .dataframe tbody tr th {\n",
       "        vertical-align: top;\n",
       "    }\n",
       "\n",
       "    .dataframe thead th {\n",
       "        text-align: right;\n",
       "    }\n",
       "</style>\n",
       "<table border=\"1\" class=\"dataframe\">\n",
       "  <thead>\n",
       "    <tr style=\"text-align: right;\">\n",
       "      <th></th>\n",
       "      <th>LATITUDE</th>\n",
       "      <th>LONGITUDE</th>\n",
       "      <th>Tair_f</th>\n",
       "      <th>Tair_f_min</th>\n",
       "      <th>Tair_f_max</th>\n",
       "      <th>Wind_f</th>\n",
       "      <th>DOY</th>\n",
       "      <th>Humidity</th>\n",
       "      <th>IS_FIRE</th>\n",
       "    </tr>\n",
       "  </thead>\n",
       "  <tbody>\n",
       "    <tr>\n",
       "      <td>0</td>\n",
       "      <td>35.328300</td>\n",
       "      <td>-81.298300</td>\n",
       "      <td>301.011658</td>\n",
       "      <td>296.969971</td>\n",
       "      <td>305.139984</td>\n",
       "      <td>3.524399</td>\n",
       "      <td>196</td>\n",
       "      <td>66.113370</td>\n",
       "      <td>1</td>\n",
       "    </tr>\n",
       "    <tr>\n",
       "      <td>1</td>\n",
       "      <td>31.235677</td>\n",
       "      <td>-83.189962</td>\n",
       "      <td>298.996216</td>\n",
       "      <td>292.919952</td>\n",
       "      <td>305.259979</td>\n",
       "      <td>3.973767</td>\n",
       "      <td>130</td>\n",
       "      <td>76.558493</td>\n",
       "      <td>0</td>\n",
       "    </tr>\n",
       "    <tr>\n",
       "      <td>2</td>\n",
       "      <td>40.631698</td>\n",
       "      <td>-73.979177</td>\n",
       "      <td>287.530273</td>\n",
       "      <td>283.350006</td>\n",
       "      <td>291.850006</td>\n",
       "      <td>6.047822</td>\n",
       "      <td>269</td>\n",
       "      <td>75.278075</td>\n",
       "      <td>1</td>\n",
       "    </tr>\n",
       "    <tr>\n",
       "      <td>3</td>\n",
       "      <td>36.959821</td>\n",
       "      <td>-120.004716</td>\n",
       "      <td>295.564514</td>\n",
       "      <td>290.779999</td>\n",
       "      <td>301.229919</td>\n",
       "      <td>2.549353</td>\n",
       "      <td>300</td>\n",
       "      <td>50.633093</td>\n",
       "      <td>0</td>\n",
       "    </tr>\n",
       "    <tr>\n",
       "      <td>4</td>\n",
       "      <td>28.800266</td>\n",
       "      <td>-81.109666</td>\n",
       "      <td>286.402618</td>\n",
       "      <td>280.850006</td>\n",
       "      <td>293.649963</td>\n",
       "      <td>1.676487</td>\n",
       "      <td>15</td>\n",
       "      <td>71.520750</td>\n",
       "      <td>0</td>\n",
       "    </tr>\n",
       "    <tr>\n",
       "      <td>...</td>\n",
       "      <td>...</td>\n",
       "      <td>...</td>\n",
       "      <td>...</td>\n",
       "      <td>...</td>\n",
       "      <td>...</td>\n",
       "      <td>...</td>\n",
       "      <td>...</td>\n",
       "      <td>...</td>\n",
       "      <td>...</td>\n",
       "    </tr>\n",
       "    <tr>\n",
       "      <td>1316901</td>\n",
       "      <td>43.163514</td>\n",
       "      <td>-77.600365</td>\n",
       "      <td>271.197784</td>\n",
       "      <td>268.819946</td>\n",
       "      <td>274.290070</td>\n",
       "      <td>2.986924</td>\n",
       "      <td>67</td>\n",
       "      <td>85.860195</td>\n",
       "      <td>0</td>\n",
       "    </tr>\n",
       "    <tr>\n",
       "      <td>1316902</td>\n",
       "      <td>35.299137</td>\n",
       "      <td>-81.440245</td>\n",
       "      <td>284.577240</td>\n",
       "      <td>279.660004</td>\n",
       "      <td>289.714996</td>\n",
       "      <td>4.441151</td>\n",
       "      <td>139</td>\n",
       "      <td>62.376975</td>\n",
       "      <td>0</td>\n",
       "    </tr>\n",
       "    <tr>\n",
       "      <td>1316903</td>\n",
       "      <td>32.406323</td>\n",
       "      <td>-82.507696</td>\n",
       "      <td>273.162872</td>\n",
       "      <td>268.120026</td>\n",
       "      <td>281.249969</td>\n",
       "      <td>3.271527</td>\n",
       "      <td>20</td>\n",
       "      <td>65.663317</td>\n",
       "      <td>0</td>\n",
       "    </tr>\n",
       "    <tr>\n",
       "      <td>1316904</td>\n",
       "      <td>35.261958</td>\n",
       "      <td>-111.503799</td>\n",
       "      <td>289.208588</td>\n",
       "      <td>283.189972</td>\n",
       "      <td>295.069977</td>\n",
       "      <td>5.624324</td>\n",
       "      <td>162</td>\n",
       "      <td>28.091490</td>\n",
       "      <td>0</td>\n",
       "    </tr>\n",
       "    <tr>\n",
       "      <td>1316905</td>\n",
       "      <td>35.767885</td>\n",
       "      <td>-94.907055</td>\n",
       "      <td>284.307037</td>\n",
       "      <td>281.569885</td>\n",
       "      <td>288.449951</td>\n",
       "      <td>3.825370</td>\n",
       "      <td>96</td>\n",
       "      <td>65.571692</td>\n",
       "      <td>0</td>\n",
       "    </tr>\n",
       "  </tbody>\n",
       "</table>\n",
       "<p>1316906 rows × 9 columns</p>\n",
       "</div>"
      ],
      "text/plain": [
       "          LATITUDE   LONGITUDE      Tair_f  Tair_f_min  Tair_f_max    Wind_f  \\\n",
       "0        35.328300  -81.298300  301.011658  296.969971  305.139984  3.524399   \n",
       "1        31.235677  -83.189962  298.996216  292.919952  305.259979  3.973767   \n",
       "2        40.631698  -73.979177  287.530273  283.350006  291.850006  6.047822   \n",
       "3        36.959821 -120.004716  295.564514  290.779999  301.229919  2.549353   \n",
       "4        28.800266  -81.109666  286.402618  280.850006  293.649963  1.676487   \n",
       "...            ...         ...         ...         ...         ...       ...   \n",
       "1316901  43.163514  -77.600365  271.197784  268.819946  274.290070  2.986924   \n",
       "1316902  35.299137  -81.440245  284.577240  279.660004  289.714996  4.441151   \n",
       "1316903  32.406323  -82.507696  273.162872  268.120026  281.249969  3.271527   \n",
       "1316904  35.261958 -111.503799  289.208588  283.189972  295.069977  5.624324   \n",
       "1316905  35.767885  -94.907055  284.307037  281.569885  288.449951  3.825370   \n",
       "\n",
       "         DOY   Humidity  IS_FIRE  \n",
       "0        196  66.113370        1  \n",
       "1        130  76.558493        0  \n",
       "2        269  75.278075        1  \n",
       "3        300  50.633093        0  \n",
       "4         15  71.520750        0  \n",
       "...      ...        ...      ...  \n",
       "1316901   67  85.860195        0  \n",
       "1316902  139  62.376975        0  \n",
       "1316903   20  65.663317        0  \n",
       "1316904  162  28.091490        0  \n",
       "1316905   96  65.571692        0  \n",
       "\n",
       "[1316906 rows x 9 columns]"
      ]
     },
     "execution_count": 70,
     "metadata": {},
     "output_type": "execute_result"
    }
   ],
   "source": [
    "import numpy as np\n",
    "import matplotlib.pyplot as plt\n",
    "import pandas as pd\n",
    "import sklearn\n",
    "from sklearn import preprocessing\n",
    "import lightgbm as lgb\n",
    "\n",
    "\n",
    "# Importing the dataset\n",
    "dataset = pd.read_csv('C:\\Fires\\FullDatasetNoArson.csv')\n",
    "vals = dataset.values\n",
    "dataset"
   ]
  },
  {
   "cell_type": "code",
   "execution_count": 71,
   "metadata": {},
   "outputs": [
    {
     "data": {
      "text/plain": [
       "array([ 2.53750631e+01, -1.24249910e+02,  2.39104691e+02,  2.35140045e+02,\n",
       "        2.44490036e+02,  1.74928576e-01,  1.00000000e+00,  3.09474834e+00,\n",
       "        0.00000000e+00])"
      ]
     },
     "execution_count": 71,
     "metadata": {},
     "output_type": "execute_result"
    }
   ],
   "source": [
    "x = dataset.values #returns a numpy array\n",
    "min_max_scaler = preprocessing.MinMaxScaler()\n",
    "min_max_scaler.fit(x)\n",
    "x_scaled = min_max_scaler.transform(x)\n",
    "dataset = pd.DataFrame(x_scaled)\n",
    "min_max_scaler.data_min_"
   ]
  },
  {
   "cell_type": "code",
   "execution_count": 72,
   "metadata": {},
   "outputs": [
    {
     "data": {
      "text/plain": [
       "(1316906, 8)"
      ]
     },
     "execution_count": 72,
     "metadata": {},
     "output_type": "execute_result"
    }
   ],
   "source": [
    "vals = dataset.values\n",
    "X = dataset.iloc[:, 0:8].values\n",
    "y = dataset.iloc[:, 8].values\n",
    "X.shape"
   ]
  },
  {
   "cell_type": "code",
   "execution_count": 74,
   "metadata": {},
   "outputs": [
    {
     "data": {
      "text/plain": [
       "array([[0.42354313, 0.8319953 , 0.81525888, ..., 0.16962172, 0.53424658,\n",
       "        0.59222189],\n",
       "       [0.24938848, 0.7953528 , 0.78871733, ..., 0.19237833, 0.35342466,\n",
       "        0.69038066],\n",
       "       [0.64922025, 0.97377056, 0.63772122, ..., 0.29741132, 0.73424658,\n",
       "        0.67834785],\n",
       "       ...,\n",
       "       [0.29920335, 0.80856866, 0.44851551, ..., 0.15681598, 0.05205479,\n",
       "        0.58799249],\n",
       "       [0.42072005, 0.24689888, 0.6598231 , ..., 0.2759648 , 0.44109589,\n",
       "        0.23490862],\n",
       "       [0.44224893, 0.56838655, 0.59527411, ..., 0.18486332, 0.26027397,\n",
       "        0.58713143]])"
      ]
     },
     "execution_count": 74,
     "metadata": {},
     "output_type": "execute_result"
    }
   ],
   "source": [
    "X"
   ]
  },
  {
   "cell_type": "code",
   "execution_count": 49,
   "metadata": {},
   "outputs": [],
   "source": [
    "# Splitting the dataset into the Training set and Test set\n",
    "from sklearn.model_selection import train_test_split\n",
    "x_train, x_test, y_train, y_test = train_test_split(X, y, test_size = 0.25, random_state = 0)\n",
    "\n",
    "# Feature Scaling\n",
    "from sklearn.preprocessing import StandardScaler\n",
    "sc = StandardScaler()\n",
    "x_train = sc.fit_transform(x_train)\n",
    "x_test = sc.transform(x_test)"
   ]
  },
  {
   "cell_type": "code",
   "execution_count": 50,
   "metadata": {},
   "outputs": [],
   "source": [
    "import lightgbm as lgb\n",
    "d_train = lgb.Dataset(x_train, label=y_train)\n",
    "params = {}\n",
    "learning_rate = 0.05227\n",
    "boosting_type = 'gbdt'\n",
    "objective = 'binary'\n",
    "metric = 'auc'\n",
    "sub_feature = 0.5721\n",
    "num_leaves = 636\n",
    "min_data = 357\n",
    "max_depth = 12\n",
    "max_bin = 451\n",
    "\n",
    "params['learning_rate'] = learning_rate\n",
    "params['boosting_type'] = boosting_type\n",
    "params['objective'] = objective\n",
    "params['metric'] = metric\n",
    "params['sub_feature'] = sub_feature\n",
    "params['num_leaves'] = num_leaves\n",
    "params['min_data'] = min_data\n",
    "params['max_depth'] = max_depth\n",
    "params['max_bin'] = max_bin\n",
    "\n",
    "clf = lgb.train(params, d_train, 2000)"
   ]
  },
  {
   "cell_type": "code",
   "execution_count": 51,
   "metadata": {},
   "outputs": [
    {
     "data": {
      "text/plain": [
       "array([0., 0., 0., ..., 1., 1., 0.])"
      ]
     },
     "execution_count": 51,
     "metadata": {},
     "output_type": "execute_result"
    }
   ],
   "source": [
    "#Prediction\n",
    "#clf = lgb.Booster(model_file='lgb-model_0.8017112812740146.txt')\n",
    "y_pred=clf.predict(x_test)\n",
    "#convert into binary values\n",
    "for i in range(0,len(y_pred)):\n",
    "    if y_pred[i]>=.5:       # setting threshold to .5\n",
    "        y_pred[i]=1\n",
    "    else:  \n",
    "        y_pred[i]=0\n",
    "y_pred\n",
    "\n",
    "\n",
    "#Prediction\n",
    "#clf = lgb.Booster(model_file='lgb-model_0.8017112812740146.txt')\n",
    "y_pred=clf.predict(x_test)\n",
    "#convert into binary values\n",
    "k = 0\n",
    "for i in range(0,len(y_pred)):\n",
    "    if y_pred[i]>=.5:       # setting threshold to .5\n",
    "        y_pred[i]=1\n",
    "    elif y_pred[i]<0:       # setting threshold to .5\n",
    "        y_pred[i]=0\n",
    "        print (\"fuck me \" + str(k) +\" times\")\n",
    "        k= k + 1\n",
    "    else:  \n",
    "        y_pred[i]=0\n",
    "y_pred"
   ]
  },
  {
   "cell_type": "code",
   "execution_count": 52,
   "metadata": {},
   "outputs": [
    {
     "data": {
      "text/plain": [
       "array([[234982,  12636],\n",
       "       [ 55372,  26237]], dtype=int64)"
      ]
     },
     "execution_count": 52,
     "metadata": {},
     "output_type": "execute_result"
    }
   ],
   "source": [
    "#Confusion matrix\n",
    "from sklearn.metrics import confusion_matrix\n",
    "cm = confusion_matrix(y_test, y_pred)\n",
    "\n",
    "#Accuracy\n",
    "from sklearn.metrics import accuracy_score\n",
    "accuracy=accuracy_score(y_pred,y_test)\n",
    "cm"
   ]
  },
  {
   "cell_type": "code",
   "execution_count": 53,
   "metadata": {},
   "outputs": [
    {
     "data": {
      "text/plain": [
       "<matplotlib.axes._subplots.AxesSubplot at 0x29285b924c8>"
      ]
     },
     "execution_count": 53,
     "metadata": {},
     "output_type": "execute_result"
    },
    {
     "data": {
      "image/png": "[encoded data removed]",
      "text/plain": [
       "<Figure size 432x288 with 2 Axes>"
      ]
     },
     "metadata": {
      "needs_background": "light"
     },
     "output_type": "display_data"
    }
   ],
   "source": [
    "import matplotlib.pyplot as plt  # doctest: +SKIP\n",
    "from sklearn.datasets import make_classification\n",
    "from sklearn.metrics import plot_confusion_matrix\n",
    "from sklearn.model_selection import train_test_split\n",
    "from sklearn.svm import SVC\n",
    "import seaborn as sns\n",
    "\n",
    "group_names = ['True Neg','False Pos','False Neg','True Pos']\n",
    "group_counts = [\"{0:0.0f}\".format(value) for value in\n",
    "                cm.flatten()]\n",
    "group_percentages = [\"{0:.2%}\".format(value) for value in\n",
    "                     cm.flatten()/np.sum(cm)]\n",
    "labels = [f\"{v1}\\n{v2}\\n{v3}\" for v1, v2, v3 in\n",
    "          zip(group_names,group_counts,group_percentages)]\n",
    "labels = np.asarray(labels).reshape(2,2)\n",
    "sns.heatmap(cm, annot=labels, fmt='', cmap='YlGnBu')\n"
   ]
  },
  {
   "cell_type": "code",
   "execution_count": 54,
   "metadata": {},
   "outputs": [
    {
     "data": {
      "text/plain": [
       "0.7934312799375507"
      ]
     },
     "execution_count": 54,
     "metadata": {},
     "output_type": "execute_result"
    }
   ],
   "source": [
    "accuracy"
   ]
  },
  {
   "cell_type": "code",
   "execution_count": 55,
   "metadata": {},
   "outputs": [],
   "source": [
    "all = len(y_test)\n",
    "clf.save_model('extra1percentModel.txt')\n",
    "dataOfML = {'learning_rate':  [learning_rate],\n",
    "            'boosting_type': [boosting_type],\n",
    "            'objective': [objective],\n",
    "            'metric': [metric],\n",
    "            'sub_feature': [sub_feature],\n",
    "            'num_leaves': [num_leaves],\n",
    "            'min_data': [min_data],\n",
    "            'max_depth': [max_depth],\n",
    "            'True Negative': [cm[0,0]/all],\n",
    "            'True Positive': [cm[1,1]/all],\n",
    "            'False Negative':[cm[1,0]/all],\n",
    "            'False Positive': [cm[0,1]/all],\n",
    "            'accuracy': [accuracy]\n",
    "        }\n",
    "\n",
    "MLdf = pd.DataFrame (dataOfML, columns = ['learning_rate','boosting_type','objective','metric','sub_feature','num_leaves','min_data','max_depth','True Negative','True Positive','False Negative','False Positive','accuracy'])\n",
    "\n",
    "MLdf.to_csv('C:/Fires/MLDocumentation.csv',mode ='a',index=False)"
   ]
  },
  {
   "cell_type": "code",
   "execution_count": 56,
   "metadata": {},
   "outputs": [
    {
     "data": {
      "text/plain": [
       "0.3214964035829382"
      ]
     },
     "execution_count": 56,
     "metadata": {},
     "output_type": "execute_result"
    }
   ],
   "source": [
    "TPR = cm[1,1] / (cm[1,1] + cm[1,0])\n",
    "TPR"
   ]
  },
  {
   "cell_type": "code",
   "execution_count": 57,
   "metadata": {},
   "outputs": [
    {
     "data": {
      "text/plain": [
       "0.9489697841029328"
      ]
     },
     "execution_count": 57,
     "metadata": {},
     "output_type": "execute_result"
    }
   ],
   "source": [
    "TNR = cm[0,0] / (cm[0,0] + cm[0,1])\n",
    "TNR"
   ]
  },
  {
   "cell_type": "code",
   "execution_count": 58,
   "metadata": {},
   "outputs": [
    {
     "data": {
      "text/plain": [
       "0.6352330938429355"
      ]
     },
     "execution_count": 58,
     "metadata": {},
     "output_type": "execute_result"
    }
   ],
   "source": [
    "BA = (TNR +TPR) / 2\n",
    "BA\n"
   ]
  },
  {
   "cell_type": "code",
   "execution_count": 59,
   "metadata": {},
   "outputs": [
    {
     "data": {
      "text/plain": [
       "array([0.00426059])"
      ]
     },
     "execution_count": 59,
     "metadata": {},
     "output_type": "execute_result"
    }
   ],
   "source": [
    "clf.predict([[35.3283, -81.2983, 301.0117, 296.97, 305.14, 3.524399, 196, 66.11337]])"
   ]
  },
  {
   "cell_type": "code",
   "execution_count": 66,
   "metadata": {},
   "outputs": [
    {
     "data": {
      "text/plain": [
       "array([0.06004378])"
      ]
     },
     "execution_count": 66,
     "metadata": {},
     "output_type": "execute_result"
    }
   ],
   "source": [
    "x_scaled = min_max_scaler.transform([[35.3283, -81.2983, 301.0117, 296.97, 305.14, 3.524399, 196, 66.11337,1]])\n",
    "clf.predict(x_scaled[:, 0:8])"
   ]
  },
  {
   "cell_type": "code",
   "execution_count": null,
   "metadata": {},
   "outputs": [],
   "source": [
    "clf = lgb.Booster(model_file='lgb-model_0.7958551394630452.txt')"
   ]
  }
 ],
 "metadata": {
  "kernelspec": {
   "display_name": "Python 3",
   "language": "python",
   "name": "python3"
  },
  "language_info": {
   "codemirror_mode": {
    "name": "ipython",
    "version": 3
   },
   "file_extension": ".py",
   "mimetype": "text/x-python",
   "name": "python",
   "nbconvert_exporter": "python",
   "pygments_lexer": "ipython3",
   "version": "3.7.6"
  }
 },
 "nbformat": 4,
 "nbformat_minor": 4
}
