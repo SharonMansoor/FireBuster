{
 "cells": [
  {
   "cell_type": "code",
   "execution_count": 5,
   "metadata": {},
   "outputs": [],
   "source": [
    "import numpy as np\n",
    "import matplotlib.pyplot as plt\n",
    "import pandas as pd\n",
    "import sklearn\n",
    "from sklearn import preprocessing\n",
    "import warnings\n",
    "import time\n",
    "warnings.filterwarnings(\"ignore\")\n",
    "import lightgbm as lgb\n",
    "from bayes_opt import BayesianOptimization\n",
    "from sklearn.metrics import roc_auc_score, mean_squared_error\n",
    "from sklearn.model_selection import train_test_split\n",
    "\n",
    "# Importing the dataset\n",
    "dataset  = pd.read_csv('C:\\Fires\\FullDatasetNoArson.csv')\n",
    "\n",
    "# Model Vars\n",
    "objective = 'binary'\n",
    "metric = [ 'binary_logloss', 'auc']\n",
    "sub_feature = 0.5721\n",
    "num_leaves = 1080\n",
    "min_data = 200\n",
    "max_depth = 14\n",
    "max_bin = 300\n"
   ]
  },
  {
   "cell_type": "code",
   "execution_count": 6,
   "metadata": {},
   "outputs": [],
   "source": [
    "x = dataset.values #returns a numpy array\n",
    "min_max_scaler = preprocessing.MinMaxScaler()\n",
    "min_max_scaler.fit(x)\n",
    "x_scaled = min_max_scaler.transform(x)\n",
    "dataset = pd.DataFrame(x_scaled)\n",
    "vals = dataset.values\n",
    "X = dataset.iloc[:, 0:8].values\n",
    "y = dataset.iloc[:, 8].values"
   ]
  },
  {
   "cell_type": "code",
   "execution_count": 7,
   "metadata": {},
   "outputs": [],
   "source": [
    "def bayesion_opt_lgbm(X, y, init_iter=3, n_iters=7, random_state=11, seed = 101, num_iterations = 100):\n",
    "    dtrain = lgb.Dataset(data=X, label=y)\n",
    "    \n",
    "# Objective Function\n",
    "    def hyp_lgbm(num_leaves, sub_fraction, max_depth, max_bin, min_data):\n",
    "        \n",
    "        params = {'objective': objective,'boosting_type':'gbdt','num_iterations': num_iterations,\n",
    "                    'learning_rate':0.05, 'early_stopping_round':50,'metric': metric,\n",
    "                    'metric':'auc'} \n",
    "            # Default parameters\n",
    "        params[\"num_leaves\"] = int(round(num_leaves))\n",
    "        params['sub_fraction'] = max(min(sub_fraction, 1), 0)\n",
    "        params['max_bin'] = int(round(max_bin))\n",
    "        params['max_depth'] = int(round(max_depth))\n",
    "        params['min_data'] = int(round(min_data))\n",
    "        cv_results = lgb.cv(params,dtrain, nfold=5, seed=seed,categorical_feature=[], stratified=False,verbose_eval =None)\n",
    "        # print(cv_results)\n",
    "        return np.max(cv_results['auc-mean'])\n",
    "  \n",
    "    # Domain space-- Range of hyperparameters \n",
    "    pds = {'num_leaves': (720, 2048),\n",
    "            'sub_fraction': (0.55, 0.56),\n",
    "            'max_depth': (15, 19),\n",
    "           'max_bin': (1000,2000),\n",
    "           'min_data' : (400,600),\n",
    "            }\n",
    "\n",
    "  # Surrogate model\n",
    "    optimizer = BayesianOptimization(hyp_lgbm, pds, random_state=random_state)\n",
    "                                    \n",
    "  # Optimize\n",
    "    optimizer.maximize(init_points=init_iter, n_iter=n_iters)"
   ]
  },
  {
   "cell_type": "code",
   "execution_count": 8,
   "metadata": {},
   "outputs": [
    {
     "name": "stdout",
     "output_type": "stream",
     "text": [
      "|   iter    |  target   |  max_bin  | max_depth | min_data  | num_le... | sub_fr... |\n",
      "-------------------------------------------------------------------------------------\n",
      "| \u001b[0m 1       \u001b[0m | \u001b[0m 0.8211  \u001b[0m | \u001b[0m 1.919e+0\u001b[0m | \u001b[0m 17.57   \u001b[0m | \u001b[0m 550.7   \u001b[0m | \u001b[0m 905.0   \u001b[0m | \u001b[0m 0.5509  \u001b[0m |\n",
      "| \u001b[0m 2       \u001b[0m | \u001b[0m 0.821   \u001b[0m | \u001b[0m 1.788e+0\u001b[0m | \u001b[0m 16.3    \u001b[0m | \u001b[0m 508.2   \u001b[0m | \u001b[0m 1.039e+0\u001b[0m | \u001b[0m 0.5555  \u001b[0m |\n",
      "| \u001b[0m 3       \u001b[0m | \u001b[0m 0.8206  \u001b[0m | \u001b[0m 1.401e+0\u001b[0m | \u001b[0m 17.86   \u001b[0m | \u001b[0m 567.3   \u001b[0m | \u001b[0m 1.502e+0\u001b[0m | \u001b[0m 0.553   \u001b[0m |\n",
      "| \u001b[95m 4       \u001b[0m | \u001b[95m 0.8231  \u001b[0m | \u001b[95m 1.281e+0\u001b[0m | \u001b[95m 17.82   \u001b[0m | \u001b[95m 484.5   \u001b[0m | \u001b[95m 796.1   \u001b[0m | \u001b[95m 0.5575  \u001b[0m |\n",
      "| \u001b[95m 5       \u001b[0m | \u001b[95m 0.8239  \u001b[0m | \u001b[95m 1.452e+0\u001b[0m | \u001b[95m 15.7    \u001b[0m | \u001b[95m 409.9   \u001b[0m | \u001b[95m 1.108e+0\u001b[0m | \u001b[95m 0.5507  \u001b[0m |\n",
      "| \u001b[0m 6       \u001b[0m | \u001b[0m 0.8206  \u001b[0m | \u001b[0m 1.751e+0\u001b[0m | \u001b[0m 15.26   \u001b[0m | \u001b[0m 486.4   \u001b[0m | \u001b[0m 1.204e+0\u001b[0m | \u001b[0m 0.5515  \u001b[0m |\n",
      "| \u001b[95m 7       \u001b[0m | \u001b[95m 0.8248  \u001b[0m | \u001b[95m 1.547e+0\u001b[0m | \u001b[95m 16.77   \u001b[0m | \u001b[95m 407.2   \u001b[0m | \u001b[95m 1.813e+0\u001b[0m | \u001b[95m 0.5527  \u001b[0m |\n",
      "| \u001b[95m 8       \u001b[0m | \u001b[95m 0.8251  \u001b[0m | \u001b[95m 1.169e+0\u001b[0m | \u001b[95m 17.58   \u001b[0m | \u001b[95m 421.5   \u001b[0m | \u001b[95m 1.189e+0\u001b[0m | \u001b[95m 0.5539  \u001b[0m |\n",
      "| \u001b[0m 9       \u001b[0m | \u001b[0m 0.8218  \u001b[0m | \u001b[0m 1.446e+0\u001b[0m | \u001b[0m 18.91   \u001b[0m | \u001b[0m 545.9   \u001b[0m | \u001b[0m 1.135e+0\u001b[0m | \u001b[0m 0.5589  \u001b[0m |\n",
      "| \u001b[0m 10      \u001b[0m | \u001b[0m 0.8224  \u001b[0m | \u001b[0m 1.783e+0\u001b[0m | \u001b[0m 16.05   \u001b[0m | \u001b[0m 461.9   \u001b[0m | \u001b[0m 891.9   \u001b[0m | \u001b[0m 0.5542  \u001b[0m |\n",
      "| \u001b[0m 11      \u001b[0m | \u001b[0m 0.8249  \u001b[0m | \u001b[0m 1.182e+0\u001b[0m | \u001b[0m 18.16   \u001b[0m | \u001b[0m 425.2   \u001b[0m | \u001b[0m 1.191e+0\u001b[0m | \u001b[0m 0.5581  \u001b[0m |\n",
      "| \u001b[0m 12      \u001b[0m | \u001b[0m 0.8237  \u001b[0m | \u001b[0m 1.698e+0\u001b[0m | \u001b[0m 15.66   \u001b[0m | \u001b[0m 413.8   \u001b[0m | \u001b[0m 2.04e+03\u001b[0m | \u001b[0m 0.5596  \u001b[0m |\n",
      "| \u001b[0m 13      \u001b[0m | \u001b[0m 0.8239  \u001b[0m | \u001b[0m 1.018e+0\u001b[0m | \u001b[0m 16.11   \u001b[0m | \u001b[0m 411.7   \u001b[0m | \u001b[0m 1.009e+0\u001b[0m | \u001b[0m 0.551   \u001b[0m |\n",
      "| \u001b[0m 14      \u001b[0m | \u001b[0m 0.8249  \u001b[0m | \u001b[0m 1.344e+0\u001b[0m | \u001b[0m 17.12   \u001b[0m | \u001b[0m 405.1   \u001b[0m | \u001b[0m 2.01e+03\u001b[0m | \u001b[0m 0.5528  \u001b[0m |\n",
      "| \u001b[0m 15      \u001b[0m | \u001b[0m 0.8241  \u001b[0m | \u001b[0m 1.16e+03\u001b[0m | \u001b[0m 17.21   \u001b[0m | \u001b[0m 419.4   \u001b[0m | \u001b[0m 1.194e+0\u001b[0m | \u001b[0m 0.5597  \u001b[0m |\n",
      "| \u001b[0m 16      \u001b[0m | \u001b[0m 0.8242  \u001b[0m | \u001b[0m 1.162e+0\u001b[0m | \u001b[0m 17.08   \u001b[0m | \u001b[0m 424.4   \u001b[0m | \u001b[0m 1.161e+0\u001b[0m | \u001b[0m 0.5518  \u001b[0m |\n",
      "| \u001b[95m 17      \u001b[0m | \u001b[95m 0.8253  \u001b[0m | \u001b[95m 1.317e+0\u001b[0m | \u001b[95m 17.62   \u001b[0m | \u001b[95m 416.1   \u001b[0m | \u001b[95m 2.034e+0\u001b[0m | \u001b[95m 0.5523  \u001b[0m |\n",
      "| \u001b[0m 18      \u001b[0m | \u001b[0m 0.8242  \u001b[0m | \u001b[0m 1.014e+0\u001b[0m | \u001b[0m 16.84   \u001b[0m | \u001b[0m 419.7   \u001b[0m | \u001b[0m 1.001e+0\u001b[0m | \u001b[0m 0.5599  \u001b[0m |\n",
      "| \u001b[0m 19      \u001b[0m | \u001b[0m 0.8245  \u001b[0m | \u001b[0m 1.342e+0\u001b[0m | \u001b[0m 18.33   \u001b[0m | \u001b[0m 441.4   \u001b[0m | \u001b[0m 2.028e+0\u001b[0m | \u001b[0m 0.5541  \u001b[0m |\n",
      "| \u001b[95m 20      \u001b[0m | \u001b[95m 0.8262  \u001b[0m | \u001b[95m 1.284e+0\u001b[0m | \u001b[95m 18.76   \u001b[0m | \u001b[95m 407.5   \u001b[0m | \u001b[95m 2.011e+0\u001b[0m | \u001b[95m 0.5547  \u001b[0m |\n",
      "| \u001b[0m 21      \u001b[0m | \u001b[0m 0.8234  \u001b[0m | \u001b[0m 1.16e+03\u001b[0m | \u001b[0m 15.73   \u001b[0m | \u001b[0m 427.9   \u001b[0m | \u001b[0m 1.163e+0\u001b[0m | \u001b[0m 0.5573  \u001b[0m |\n",
      "| \u001b[0m 22      \u001b[0m | \u001b[0m 0.8258  \u001b[0m | \u001b[0m 1.318e+0\u001b[0m | \u001b[0m 18.69   \u001b[0m | \u001b[0m 419.6   \u001b[0m | \u001b[0m 2.003e+0\u001b[0m | \u001b[0m 0.5556  \u001b[0m |\n",
      "| \u001b[0m 23      \u001b[0m | \u001b[0m 0.8232  \u001b[0m | \u001b[0m 1.282e+0\u001b[0m | \u001b[0m 15.94   \u001b[0m | \u001b[0m 429.0   \u001b[0m | \u001b[0m 2.011e+0\u001b[0m | \u001b[0m 0.5506  \u001b[0m |\n",
      "| \u001b[0m 24      \u001b[0m | \u001b[0m 0.8256  \u001b[0m | \u001b[0m 1.303e+0\u001b[0m | \u001b[0m 17.86   \u001b[0m | \u001b[0m 414.1   \u001b[0m | \u001b[0m 1.974e+0\u001b[0m | \u001b[0m 0.5565  \u001b[0m |\n",
      "| \u001b[0m 25      \u001b[0m | \u001b[0m 0.8243  \u001b[0m | \u001b[0m 1.774e+0\u001b[0m | \u001b[0m 18.33   \u001b[0m | \u001b[0m 450.4   \u001b[0m | \u001b[0m 1.969e+0\u001b[0m | \u001b[0m 0.5542  \u001b[0m |\n",
      "| \u001b[0m 26      \u001b[0m | \u001b[0m 0.8191  \u001b[0m | \u001b[0m 1.813e+0\u001b[0m | \u001b[0m 15.49   \u001b[0m | \u001b[0m 539.4   \u001b[0m | \u001b[0m 898.5   \u001b[0m | \u001b[0m 0.5524  \u001b[0m |\n",
      "| \u001b[0m 27      \u001b[0m | \u001b[0m 0.8205  \u001b[0m | \u001b[0m 1.366e+0\u001b[0m | \u001b[0m 17.93   \u001b[0m | \u001b[0m 562.6   \u001b[0m | \u001b[0m 1.458e+0\u001b[0m | \u001b[0m 0.5575  \u001b[0m |\n",
      "| \u001b[0m 28      \u001b[0m | \u001b[0m 0.8238  \u001b[0m | \u001b[0m 1.276e+0\u001b[0m | \u001b[0m 17.02   \u001b[0m | \u001b[0m 433.3   \u001b[0m | \u001b[0m 837.8   \u001b[0m | \u001b[0m 0.5541  \u001b[0m |\n",
      "| \u001b[0m 29      \u001b[0m | \u001b[0m 0.8254  \u001b[0m | \u001b[0m 1.211e+0\u001b[0m | \u001b[0m 17.99   \u001b[0m | \u001b[0m 407.1   \u001b[0m | \u001b[0m 1.162e+0\u001b[0m | \u001b[0m 0.5555  \u001b[0m |\n",
      "| \u001b[0m 30      \u001b[0m | \u001b[0m 0.8205  \u001b[0m | \u001b[0m 1.296e+0\u001b[0m | \u001b[0m 18.15   \u001b[0m | \u001b[0m 571.0   \u001b[0m | \u001b[0m 2.012e+0\u001b[0m | \u001b[0m 0.5532  \u001b[0m |\n",
      "| \u001b[0m 31      \u001b[0m | \u001b[0m 0.8252  \u001b[0m | \u001b[0m 1.183e+0\u001b[0m | \u001b[0m 18.28   \u001b[0m | \u001b[0m 406.9   \u001b[0m | \u001b[0m 1.174e+0\u001b[0m | \u001b[0m 0.5529  \u001b[0m |\n",
      "| \u001b[0m 32      \u001b[0m | \u001b[0m 0.8236  \u001b[0m | \u001b[0m 1.196e+0\u001b[0m | \u001b[0m 16.52   \u001b[0m | \u001b[0m 425.6   \u001b[0m | \u001b[0m 1.141e+0\u001b[0m | \u001b[0m 0.5564  \u001b[0m |\n",
      "| \u001b[0m 33      \u001b[0m | \u001b[0m 0.821   \u001b[0m | \u001b[0m 1.507e+0\u001b[0m | \u001b[0m 18.61   \u001b[0m | \u001b[0m 565.7   \u001b[0m | \u001b[0m 1.709e+0\u001b[0m | \u001b[0m 0.5576  \u001b[0m |\n",
      "| \u001b[0m 34      \u001b[0m | \u001b[0m 0.8253  \u001b[0m | \u001b[0m 1.226e+0\u001b[0m | \u001b[0m 18.31   \u001b[0m | \u001b[0m 413.7   \u001b[0m | \u001b[0m 1.42e+03\u001b[0m | \u001b[0m 0.5545  \u001b[0m |\n",
      "| \u001b[0m 35      \u001b[0m | \u001b[0m 0.8242  \u001b[0m | \u001b[0m 1.274e+0\u001b[0m | \u001b[0m 15.89   \u001b[0m | \u001b[0m 400.8   \u001b[0m | \u001b[0m 1.992e+0\u001b[0m | \u001b[0m 0.5537  \u001b[0m |\n",
      "| \u001b[0m 36      \u001b[0m | \u001b[0m 0.8223  \u001b[0m | \u001b[0m 1.53e+03\u001b[0m | \u001b[0m 16.21   \u001b[0m | \u001b[0m 462.8   \u001b[0m | \u001b[0m 1.297e+0\u001b[0m | \u001b[0m 0.5505  \u001b[0m |\n",
      "| \u001b[0m 37      \u001b[0m | \u001b[0m 0.824   \u001b[0m | \u001b[0m 1.262e+0\u001b[0m | \u001b[0m 16.02   \u001b[0m | \u001b[0m 409.0   \u001b[0m | \u001b[0m 1.416e+0\u001b[0m | \u001b[0m 0.5579  \u001b[0m |\n",
      "| \u001b[0m 38      \u001b[0m | \u001b[0m 0.8243  \u001b[0m | \u001b[0m 1.344e+0\u001b[0m | \u001b[0m 16.51   \u001b[0m | \u001b[0m 416.9   \u001b[0m | \u001b[0m 1.967e+0\u001b[0m | \u001b[0m 0.5569  \u001b[0m |\n",
      "| \u001b[0m 39      \u001b[0m | \u001b[0m 0.8258  \u001b[0m | \u001b[0m 1.294e+0\u001b[0m | \u001b[0m 18.31   \u001b[0m | \u001b[0m 401.0   \u001b[0m | \u001b[0m 2.039e+0\u001b[0m | \u001b[0m 0.5527  \u001b[0m |\n",
      "| \u001b[0m 40      \u001b[0m | \u001b[0m 0.8251  \u001b[0m | \u001b[0m 1.311e+0\u001b[0m | \u001b[0m 16.7    \u001b[0m | \u001b[0m 400.6   \u001b[0m | \u001b[0m 2.005e+0\u001b[0m | \u001b[0m 0.5573  \u001b[0m |\n",
      "| \u001b[0m 41      \u001b[0m | \u001b[0m 0.8247  \u001b[0m | \u001b[0m 1.259e+0\u001b[0m | \u001b[0m 17.01   \u001b[0m | \u001b[0m 404.0   \u001b[0m | \u001b[0m 2.028e+0\u001b[0m | \u001b[0m 0.5569  \u001b[0m |\n",
      "| \u001b[0m 42      \u001b[0m | \u001b[0m 0.8237  \u001b[0m | \u001b[0m 1.123e+0\u001b[0m | \u001b[0m 17.75   \u001b[0m | \u001b[0m 460.2   \u001b[0m | \u001b[0m 781.9   \u001b[0m | \u001b[0m 0.5523  \u001b[0m |\n",
      "| \u001b[0m 43      \u001b[0m | \u001b[0m 0.8237  \u001b[0m | \u001b[0m 1.625e+0\u001b[0m | \u001b[0m 18.57   \u001b[0m | \u001b[0m 486.3   \u001b[0m | \u001b[0m 990.7   \u001b[0m | \u001b[0m 0.5593  \u001b[0m |\n"
     ]
    },
    {
     "ename": "KeyboardInterrupt",
     "evalue": "",
     "output_type": "error",
     "traceback": [
      "\u001b[1;31m---------------------------------------------------------------------------\u001b[0m",
      "\u001b[1;31mKeyError\u001b[0m                                  Traceback (most recent call last)",
      "\u001b[1;32m~\\Anaconda3\\lib\\site-packages\\bayes_opt\\target_space.py\u001b[0m in \u001b[0;36mprobe\u001b[1;34m(self, params)\u001b[0m\n\u001b[0;32m    190\u001b[0m         \u001b[1;32mtry\u001b[0m\u001b[1;33m:\u001b[0m\u001b[1;33m\u001b[0m\u001b[1;33m\u001b[0m\u001b[0m\n\u001b[1;32m--> 191\u001b[1;33m             \u001b[0mtarget\u001b[0m \u001b[1;33m=\u001b[0m \u001b[0mself\u001b[0m\u001b[1;33m.\u001b[0m\u001b[0m_cache\u001b[0m\u001b[1;33m[\u001b[0m\u001b[0m_hashable\u001b[0m\u001b[1;33m(\u001b[0m\u001b[0mx\u001b[0m\u001b[1;33m)\u001b[0m\u001b[1;33m]\u001b[0m\u001b[1;33m\u001b[0m\u001b[1;33m\u001b[0m\u001b[0m\n\u001b[0m\u001b[0;32m    192\u001b[0m         \u001b[1;32mexcept\u001b[0m \u001b[0mKeyError\u001b[0m\u001b[1;33m:\u001b[0m\u001b[1;33m\u001b[0m\u001b[1;33m\u001b[0m\u001b[0m\n",
      "\u001b[1;31mKeyError\u001b[0m: (1726.481094851328, 17.813773965261444, 479.5079758610991, 1503.1041634261455, 0.5575734747361273)",
      "\nDuring handling of the above exception, another exception occurred:\n",
      "\u001b[1;31mKeyboardInterrupt\u001b[0m                         Traceback (most recent call last)",
      "\u001b[1;32m<ipython-input-8-5d388249a90b>\u001b[0m in \u001b[0;36m<module>\u001b[1;34m\u001b[0m\n\u001b[1;32m----> 1\u001b[1;33m \u001b[0mbayesion_opt_lgbm\u001b[0m\u001b[1;33m(\u001b[0m\u001b[0mX\u001b[0m\u001b[1;33m,\u001b[0m \u001b[0my\u001b[0m\u001b[1;33m,\u001b[0m \u001b[0minit_iter\u001b[0m\u001b[1;33m=\u001b[0m\u001b[1;36m10\u001b[0m\u001b[1;33m,\u001b[0m \u001b[0mn_iters\u001b[0m\u001b[1;33m=\u001b[0m\u001b[1;36m40\u001b[0m\u001b[1;33m,\u001b[0m \u001b[0mrandom_state\u001b[0m\u001b[1;33m=\u001b[0m\u001b[1;36m77\u001b[0m\u001b[1;33m,\u001b[0m \u001b[0mseed\u001b[0m \u001b[1;33m=\u001b[0m \u001b[1;36m101\u001b[0m\u001b[1;33m,\u001b[0m \u001b[0mnum_iterations\u001b[0m \u001b[1;33m=\u001b[0m \u001b[1;36m2000\u001b[0m\u001b[1;33m)\u001b[0m\u001b[1;33m\u001b[0m\u001b[1;33m\u001b[0m\u001b[0m\n\u001b[0m",
      "\u001b[1;32m<ipython-input-7-174c3498a8dc>\u001b[0m in \u001b[0;36mbayesion_opt_lgbm\u001b[1;34m(X, y, init_iter, n_iters, random_state, seed, num_iterations)\u001b[0m\n\u001b[0;32m     30\u001b[0m \u001b[1;33m\u001b[0m\u001b[0m\n\u001b[0;32m     31\u001b[0m   \u001b[1;31m# Optimize\u001b[0m\u001b[1;33m\u001b[0m\u001b[1;33m\u001b[0m\u001b[1;33m\u001b[0m\u001b[0m\n\u001b[1;32m---> 32\u001b[1;33m     \u001b[0moptimizer\u001b[0m\u001b[1;33m.\u001b[0m\u001b[0mmaximize\u001b[0m\u001b[1;33m(\u001b[0m\u001b[0minit_points\u001b[0m\u001b[1;33m=\u001b[0m\u001b[0minit_iter\u001b[0m\u001b[1;33m,\u001b[0m \u001b[0mn_iter\u001b[0m\u001b[1;33m=\u001b[0m\u001b[0mn_iters\u001b[0m\u001b[1;33m)\u001b[0m\u001b[1;33m\u001b[0m\u001b[1;33m\u001b[0m\u001b[0m\n\u001b[0m",
      "\u001b[1;32m~\\Anaconda3\\lib\\site-packages\\bayes_opt\\bayesian_optimization.py\u001b[0m in \u001b[0;36mmaximize\u001b[1;34m(self, init_points, n_iter, acq, kappa, kappa_decay, kappa_decay_delay, xi, **gp_params)\u001b[0m\n\u001b[0;32m    183\u001b[0m                 \u001b[0miteration\u001b[0m \u001b[1;33m+=\u001b[0m \u001b[1;36m1\u001b[0m\u001b[1;33m\u001b[0m\u001b[1;33m\u001b[0m\u001b[0m\n\u001b[0;32m    184\u001b[0m \u001b[1;33m\u001b[0m\u001b[0m\n\u001b[1;32m--> 185\u001b[1;33m             \u001b[0mself\u001b[0m\u001b[1;33m.\u001b[0m\u001b[0mprobe\u001b[0m\u001b[1;33m(\u001b[0m\u001b[0mx_probe\u001b[0m\u001b[1;33m,\u001b[0m \u001b[0mlazy\u001b[0m\u001b[1;33m=\u001b[0m\u001b[1;32mFalse\u001b[0m\u001b[1;33m)\u001b[0m\u001b[1;33m\u001b[0m\u001b[1;33m\u001b[0m\u001b[0m\n\u001b[0m\u001b[0;32m    186\u001b[0m \u001b[1;33m\u001b[0m\u001b[0m\n\u001b[0;32m    187\u001b[0m             \u001b[1;32mif\u001b[0m \u001b[0mself\u001b[0m\u001b[1;33m.\u001b[0m\u001b[0m_bounds_transformer\u001b[0m\u001b[1;33m:\u001b[0m\u001b[1;33m\u001b[0m\u001b[1;33m\u001b[0m\u001b[0m\n",
      "\u001b[1;32m~\\Anaconda3\\lib\\site-packages\\bayes_opt\\bayesian_optimization.py\u001b[0m in \u001b[0;36mprobe\u001b[1;34m(self, params, lazy)\u001b[0m\n\u001b[0;32m    114\u001b[0m             \u001b[0mself\u001b[0m\u001b[1;33m.\u001b[0m\u001b[0m_queue\u001b[0m\u001b[1;33m.\u001b[0m\u001b[0madd\u001b[0m\u001b[1;33m(\u001b[0m\u001b[0mparams\u001b[0m\u001b[1;33m)\u001b[0m\u001b[1;33m\u001b[0m\u001b[1;33m\u001b[0m\u001b[0m\n\u001b[0;32m    115\u001b[0m         \u001b[1;32melse\u001b[0m\u001b[1;33m:\u001b[0m\u001b[1;33m\u001b[0m\u001b[1;33m\u001b[0m\u001b[0m\n\u001b[1;32m--> 116\u001b[1;33m             \u001b[0mself\u001b[0m\u001b[1;33m.\u001b[0m\u001b[0m_space\u001b[0m\u001b[1;33m.\u001b[0m\u001b[0mprobe\u001b[0m\u001b[1;33m(\u001b[0m\u001b[0mparams\u001b[0m\u001b[1;33m)\u001b[0m\u001b[1;33m\u001b[0m\u001b[1;33m\u001b[0m\u001b[0m\n\u001b[0m\u001b[0;32m    117\u001b[0m             \u001b[0mself\u001b[0m\u001b[1;33m.\u001b[0m\u001b[0mdispatch\u001b[0m\u001b[1;33m(\u001b[0m\u001b[0mEvents\u001b[0m\u001b[1;33m.\u001b[0m\u001b[0mOPTIMIZATION_STEP\u001b[0m\u001b[1;33m)\u001b[0m\u001b[1;33m\u001b[0m\u001b[1;33m\u001b[0m\u001b[0m\n\u001b[0;32m    118\u001b[0m \u001b[1;33m\u001b[0m\u001b[0m\n",
      "\u001b[1;32m~\\Anaconda3\\lib\\site-packages\\bayes_opt\\target_space.py\u001b[0m in \u001b[0;36mprobe\u001b[1;34m(self, params)\u001b[0m\n\u001b[0;32m    192\u001b[0m         \u001b[1;32mexcept\u001b[0m \u001b[0mKeyError\u001b[0m\u001b[1;33m:\u001b[0m\u001b[1;33m\u001b[0m\u001b[1;33m\u001b[0m\u001b[0m\n\u001b[0;32m    193\u001b[0m             \u001b[0mparams\u001b[0m \u001b[1;33m=\u001b[0m \u001b[0mdict\u001b[0m\u001b[1;33m(\u001b[0m\u001b[0mzip\u001b[0m\u001b[1;33m(\u001b[0m\u001b[0mself\u001b[0m\u001b[1;33m.\u001b[0m\u001b[0m_keys\u001b[0m\u001b[1;33m,\u001b[0m \u001b[0mx\u001b[0m\u001b[1;33m)\u001b[0m\u001b[1;33m)\u001b[0m\u001b[1;33m\u001b[0m\u001b[1;33m\u001b[0m\u001b[0m\n\u001b[1;32m--> 194\u001b[1;33m             \u001b[0mtarget\u001b[0m \u001b[1;33m=\u001b[0m \u001b[0mself\u001b[0m\u001b[1;33m.\u001b[0m\u001b[0mtarget_func\u001b[0m\u001b[1;33m(\u001b[0m\u001b[1;33m**\u001b[0m\u001b[0mparams\u001b[0m\u001b[1;33m)\u001b[0m\u001b[1;33m\u001b[0m\u001b[1;33m\u001b[0m\u001b[0m\n\u001b[0m\u001b[0;32m    195\u001b[0m             \u001b[0mself\u001b[0m\u001b[1;33m.\u001b[0m\u001b[0mregister\u001b[0m\u001b[1;33m(\u001b[0m\u001b[0mx\u001b[0m\u001b[1;33m,\u001b[0m \u001b[0mtarget\u001b[0m\u001b[1;33m)\u001b[0m\u001b[1;33m\u001b[0m\u001b[1;33m\u001b[0m\u001b[0m\n\u001b[0;32m    196\u001b[0m         \u001b[1;32mreturn\u001b[0m \u001b[0mtarget\u001b[0m\u001b[1;33m\u001b[0m\u001b[1;33m\u001b[0m\u001b[0m\n",
      "\u001b[1;32m<ipython-input-7-174c3498a8dc>\u001b[0m in \u001b[0;36mhyp_lgbm\u001b[1;34m(num_leaves, sub_fraction, max_depth, max_bin, min_data)\u001b[0m\n\u001b[0;32m     14\u001b[0m         \u001b[0mparams\u001b[0m\u001b[1;33m[\u001b[0m\u001b[1;34m'max_depth'\u001b[0m\u001b[1;33m]\u001b[0m \u001b[1;33m=\u001b[0m \u001b[0mint\u001b[0m\u001b[1;33m(\u001b[0m\u001b[0mround\u001b[0m\u001b[1;33m(\u001b[0m\u001b[0mmax_depth\u001b[0m\u001b[1;33m)\u001b[0m\u001b[1;33m)\u001b[0m\u001b[1;33m\u001b[0m\u001b[1;33m\u001b[0m\u001b[0m\n\u001b[0;32m     15\u001b[0m         \u001b[0mparams\u001b[0m\u001b[1;33m[\u001b[0m\u001b[1;34m'min_data'\u001b[0m\u001b[1;33m]\u001b[0m \u001b[1;33m=\u001b[0m \u001b[0mint\u001b[0m\u001b[1;33m(\u001b[0m\u001b[0mround\u001b[0m\u001b[1;33m(\u001b[0m\u001b[0mmin_data\u001b[0m\u001b[1;33m)\u001b[0m\u001b[1;33m)\u001b[0m\u001b[1;33m\u001b[0m\u001b[1;33m\u001b[0m\u001b[0m\n\u001b[1;32m---> 16\u001b[1;33m         \u001b[0mcv_results\u001b[0m \u001b[1;33m=\u001b[0m \u001b[0mlgb\u001b[0m\u001b[1;33m.\u001b[0m\u001b[0mcv\u001b[0m\u001b[1;33m(\u001b[0m\u001b[0mparams\u001b[0m\u001b[1;33m,\u001b[0m\u001b[0mdtrain\u001b[0m\u001b[1;33m,\u001b[0m \u001b[0mnfold\u001b[0m\u001b[1;33m=\u001b[0m\u001b[1;36m5\u001b[0m\u001b[1;33m,\u001b[0m \u001b[0mseed\u001b[0m\u001b[1;33m=\u001b[0m\u001b[0mseed\u001b[0m\u001b[1;33m,\u001b[0m\u001b[0mcategorical_feature\u001b[0m\u001b[1;33m=\u001b[0m\u001b[1;33m[\u001b[0m\u001b[1;33m]\u001b[0m\u001b[1;33m,\u001b[0m \u001b[0mstratified\u001b[0m\u001b[1;33m=\u001b[0m\u001b[1;32mFalse\u001b[0m\u001b[1;33m,\u001b[0m\u001b[0mverbose_eval\u001b[0m \u001b[1;33m=\u001b[0m\u001b[1;32mNone\u001b[0m\u001b[1;33m)\u001b[0m\u001b[1;33m\u001b[0m\u001b[1;33m\u001b[0m\u001b[0m\n\u001b[0m\u001b[0;32m     17\u001b[0m         \u001b[1;31m# print(cv_results)\u001b[0m\u001b[1;33m\u001b[0m\u001b[1;33m\u001b[0m\u001b[1;33m\u001b[0m\u001b[0m\n\u001b[0;32m     18\u001b[0m         \u001b[1;32mreturn\u001b[0m \u001b[0mnp\u001b[0m\u001b[1;33m.\u001b[0m\u001b[0mmax\u001b[0m\u001b[1;33m(\u001b[0m\u001b[0mcv_results\u001b[0m\u001b[1;33m[\u001b[0m\u001b[1;34m'auc-mean'\u001b[0m\u001b[1;33m]\u001b[0m\u001b[1;33m)\u001b[0m\u001b[1;33m\u001b[0m\u001b[1;33m\u001b[0m\u001b[0m\n",
      "\u001b[1;32m~\\Anaconda3\\lib\\site-packages\\lightgbm\\engine.py\u001b[0m in \u001b[0;36mcv\u001b[1;34m(params, train_set, num_boost_round, folds, nfold, stratified, shuffle, metrics, fobj, feval, init_model, feature_name, categorical_feature, early_stopping_rounds, fpreproc, verbose_eval, show_stdv, seed, callbacks, eval_train_metric)\u001b[0m\n\u001b[0;32m    563\u001b[0m                                     evaluation_result_list=None))\n\u001b[0;32m    564\u001b[0m         \u001b[0mcvfolds\u001b[0m\u001b[1;33m.\u001b[0m\u001b[0mupdate\u001b[0m\u001b[1;33m(\u001b[0m\u001b[0mfobj\u001b[0m\u001b[1;33m=\u001b[0m\u001b[0mfobj\u001b[0m\u001b[1;33m)\u001b[0m\u001b[1;33m\u001b[0m\u001b[1;33m\u001b[0m\u001b[0m\n\u001b[1;32m--> 565\u001b[1;33m         \u001b[0mres\u001b[0m \u001b[1;33m=\u001b[0m \u001b[0m_agg_cv_result\u001b[0m\u001b[1;33m(\u001b[0m\u001b[0mcvfolds\u001b[0m\u001b[1;33m.\u001b[0m\u001b[0meval_valid\u001b[0m\u001b[1;33m(\u001b[0m\u001b[0mfeval\u001b[0m\u001b[1;33m)\u001b[0m\u001b[1;33m,\u001b[0m \u001b[0meval_train_metric\u001b[0m\u001b[1;33m)\u001b[0m\u001b[1;33m\u001b[0m\u001b[1;33m\u001b[0m\u001b[0m\n\u001b[0m\u001b[0;32m    566\u001b[0m         \u001b[1;32mfor\u001b[0m \u001b[0m_\u001b[0m\u001b[1;33m,\u001b[0m \u001b[0mkey\u001b[0m\u001b[1;33m,\u001b[0m \u001b[0mmean\u001b[0m\u001b[1;33m,\u001b[0m \u001b[0m_\u001b[0m\u001b[1;33m,\u001b[0m \u001b[0mstd\u001b[0m \u001b[1;32min\u001b[0m \u001b[0mres\u001b[0m\u001b[1;33m:\u001b[0m\u001b[1;33m\u001b[0m\u001b[1;33m\u001b[0m\u001b[0m\n\u001b[0;32m    567\u001b[0m             \u001b[0mresults\u001b[0m\u001b[1;33m[\u001b[0m\u001b[0mkey\u001b[0m \u001b[1;33m+\u001b[0m \u001b[1;34m'-mean'\u001b[0m\u001b[1;33m]\u001b[0m\u001b[1;33m.\u001b[0m\u001b[0mappend\u001b[0m\u001b[1;33m(\u001b[0m\u001b[0mmean\u001b[0m\u001b[1;33m)\u001b[0m\u001b[1;33m\u001b[0m\u001b[1;33m\u001b[0m\u001b[0m\n",
      "\u001b[1;32m~\\Anaconda3\\lib\\site-packages\\lightgbm\\engine.py\u001b[0m in \u001b[0;36mhandler_function\u001b[1;34m(*args, **kwargs)\u001b[0m\n\u001b[0;32m    292\u001b[0m             \u001b[0mret\u001b[0m \u001b[1;33m=\u001b[0m \u001b[1;33m[\u001b[0m\u001b[1;33m]\u001b[0m\u001b[1;33m\u001b[0m\u001b[1;33m\u001b[0m\u001b[0m\n\u001b[0;32m    293\u001b[0m             \u001b[1;32mfor\u001b[0m \u001b[0mbooster\u001b[0m \u001b[1;32min\u001b[0m \u001b[0mself\u001b[0m\u001b[1;33m.\u001b[0m\u001b[0mboosters\u001b[0m\u001b[1;33m:\u001b[0m\u001b[1;33m\u001b[0m\u001b[1;33m\u001b[0m\u001b[0m\n\u001b[1;32m--> 294\u001b[1;33m                 \u001b[0mret\u001b[0m\u001b[1;33m.\u001b[0m\u001b[0mappend\u001b[0m\u001b[1;33m(\u001b[0m\u001b[0mgetattr\u001b[0m\u001b[1;33m(\u001b[0m\u001b[0mbooster\u001b[0m\u001b[1;33m,\u001b[0m \u001b[0mname\u001b[0m\u001b[1;33m)\u001b[0m\u001b[1;33m(\u001b[0m\u001b[1;33m*\u001b[0m\u001b[0margs\u001b[0m\u001b[1;33m,\u001b[0m \u001b[1;33m**\u001b[0m\u001b[0mkwargs\u001b[0m\u001b[1;33m)\u001b[0m\u001b[1;33m)\u001b[0m\u001b[1;33m\u001b[0m\u001b[1;33m\u001b[0m\u001b[0m\n\u001b[0m\u001b[0;32m    295\u001b[0m             \u001b[1;32mreturn\u001b[0m \u001b[0mret\u001b[0m\u001b[1;33m\u001b[0m\u001b[1;33m\u001b[0m\u001b[0m\n\u001b[0;32m    296\u001b[0m         \u001b[1;32mreturn\u001b[0m \u001b[0mhandler_function\u001b[0m\u001b[1;33m\u001b[0m\u001b[1;33m\u001b[0m\u001b[0m\n",
      "\u001b[1;32m~\\Anaconda3\\lib\\site-packages\\lightgbm\\basic.py\u001b[0m in \u001b[0;36meval_valid\u001b[1;34m(self, feval)\u001b[0m\n\u001b[0;32m   2185\u001b[0m             \u001b[0mList\u001b[0m \u001b[1;32mwith\u001b[0m \u001b[0mevaluation\u001b[0m \u001b[0mresults\u001b[0m\u001b[1;33m.\u001b[0m\u001b[1;33m\u001b[0m\u001b[1;33m\u001b[0m\u001b[0m\n\u001b[0;32m   2186\u001b[0m         \"\"\"\n\u001b[1;32m-> 2187\u001b[1;33m         return [item for i in range_(1, self.__num_dataset)\n\u001b[0m\u001b[0;32m   2188\u001b[0m                 for item in self.__inner_eval(self.name_valid_sets[i - 1], i, feval)]\n\u001b[0;32m   2189\u001b[0m \u001b[1;33m\u001b[0m\u001b[0m\n",
      "\u001b[1;32m~\\Anaconda3\\lib\\site-packages\\lightgbm\\basic.py\u001b[0m in \u001b[0;36m<listcomp>\u001b[1;34m(.0)\u001b[0m\n\u001b[0;32m   2186\u001b[0m         \"\"\"\n\u001b[0;32m   2187\u001b[0m         return [item for i in range_(1, self.__num_dataset)\n\u001b[1;32m-> 2188\u001b[1;33m                 for item in self.__inner_eval(self.name_valid_sets[i - 1], i, feval)]\n\u001b[0m\u001b[0;32m   2189\u001b[0m \u001b[1;33m\u001b[0m\u001b[0m\n\u001b[0;32m   2190\u001b[0m     \u001b[1;32mdef\u001b[0m \u001b[0msave_model\u001b[0m\u001b[1;33m(\u001b[0m\u001b[0mself\u001b[0m\u001b[1;33m,\u001b[0m \u001b[0mfilename\u001b[0m\u001b[1;33m,\u001b[0m \u001b[0mnum_iteration\u001b[0m\u001b[1;33m=\u001b[0m\u001b[1;32mNone\u001b[0m\u001b[1;33m,\u001b[0m \u001b[0mstart_iteration\u001b[0m\u001b[1;33m=\u001b[0m\u001b[1;36m0\u001b[0m\u001b[1;33m)\u001b[0m\u001b[1;33m:\u001b[0m\u001b[1;33m\u001b[0m\u001b[1;33m\u001b[0m\u001b[0m\n",
      "\u001b[1;32m~\\Anaconda3\\lib\\site-packages\\lightgbm\\basic.py\u001b[0m in \u001b[0;36m__inner_eval\u001b[1;34m(self, data_name, data_idx, feval)\u001b[0m\n\u001b[0;32m   2645\u001b[0m                 \u001b[0mctypes\u001b[0m\u001b[1;33m.\u001b[0m\u001b[0mc_int\u001b[0m\u001b[1;33m(\u001b[0m\u001b[0mdata_idx\u001b[0m\u001b[1;33m)\u001b[0m\u001b[1;33m,\u001b[0m\u001b[1;33m\u001b[0m\u001b[1;33m\u001b[0m\u001b[0m\n\u001b[0;32m   2646\u001b[0m                 \u001b[0mctypes\u001b[0m\u001b[1;33m.\u001b[0m\u001b[0mbyref\u001b[0m\u001b[1;33m(\u001b[0m\u001b[0mtmp_out_len\u001b[0m\u001b[1;33m)\u001b[0m\u001b[1;33m,\u001b[0m\u001b[1;33m\u001b[0m\u001b[1;33m\u001b[0m\u001b[0m\n\u001b[1;32m-> 2647\u001b[1;33m                 result.ctypes.data_as(ctypes.POINTER(ctypes.c_double))))\n\u001b[0m\u001b[0;32m   2648\u001b[0m             \u001b[1;32mif\u001b[0m \u001b[0mtmp_out_len\u001b[0m\u001b[1;33m.\u001b[0m\u001b[0mvalue\u001b[0m \u001b[1;33m!=\u001b[0m \u001b[0mself\u001b[0m\u001b[1;33m.\u001b[0m\u001b[0m__num_inner_eval\u001b[0m\u001b[1;33m:\u001b[0m\u001b[1;33m\u001b[0m\u001b[1;33m\u001b[0m\u001b[0m\n\u001b[0;32m   2649\u001b[0m                 \u001b[1;32mraise\u001b[0m \u001b[0mValueError\u001b[0m\u001b[1;33m(\u001b[0m\u001b[1;34m\"Wrong length of eval results\"\u001b[0m\u001b[1;33m)\u001b[0m\u001b[1;33m\u001b[0m\u001b[1;33m\u001b[0m\u001b[0m\n",
      "\u001b[1;31mKeyboardInterrupt\u001b[0m: "
     ]
    }
   ],
   "source": [
    "bayesion_opt_lgbm(X, y, init_iter=10, n_iters=40, random_state=77, seed = 101, num_iterations = 2000)"
   ]
  },
  {
   "cell_type": "code",
   "execution_count": null,
   "metadata": {},
   "outputs": [],
   "source": []
  }
 ],
 "metadata": {
  "kernelspec": {
   "display_name": "Python 3",
   "language": "python",
   "name": "python3"
  },
  "language_info": {
   "codemirror_mode": {
    "name": "ipython",
    "version": 3
   },
   "file_extension": ".py",
   "mimetype": "text/x-python",
   "name": "python",
   "nbconvert_exporter": "python",
   "pygments_lexer": "ipython3",
   "version": "3.7.6"
  }
 },
 "nbformat": 4,
 "nbformat_minor": 4
}
